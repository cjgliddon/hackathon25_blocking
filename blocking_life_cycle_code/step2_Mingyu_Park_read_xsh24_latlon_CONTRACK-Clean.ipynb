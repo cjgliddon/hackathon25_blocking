{
 "cells": [
  {
   "cell_type": "code",
   "execution_count": 1,
   "id": "17d7018a-e8f8-4ce8-beff-18ebd1141533",
   "metadata": {},
   "outputs": [],
   "source": [
    "## Standard Stuff\n",
    "import numpy as np\n",
    "import xarray as xr\n",
    "import cartopy.crs as ccrs\n",
    "import cartopy.feature as cf\n",
    "import matplotlib.pyplot as plt\n",
    "import dask.array as da\n",
    "import numcodecs\n",
    "\n",
    "## HEALPix Specific\n",
    "import healpix as hp\n",
    "import easygems.healpix as egh\n",
    "import easygems.remap as egr\n",
    "\n",
    "import intake     # For catalogs\n",
    "import zarr       \n",
    "\n",
    "import sys"
   ]
  },
  {
   "cell_type": "code",
   "execution_count": 2,
   "id": "0a15aadc-280f-45be-82f5-f49aab526323",
   "metadata": {},
   "outputs": [],
   "source": [
    "def new_calc_dx_dy(longitude,latitude,shape,radius=6371000.):\n",
    "    ''' This definition calculates the distance \n",
    "        between grid points that are in\n",
    "        a latitude/longitude format.\n",
    "        \n",
    "        Using pyproj GEOD; different Earth Shapes \n",
    "        https://jswhit.github.io/pyproj/pyproj.Geod-class.html\n",
    "        Common shapes: 'sphere', 'WGS84', 'GRS80'\n",
    "        \n",
    "        Accepts, 1D arrays for latitude and longitude\n",
    "        \n",
    "        Returns: dx, dy; 2D arrays of distances \n",
    "                       between grid points in the x and y direction in meters \n",
    "        https://github.com/Unidata/MetPy/issues/288\n",
    "    '''\n",
    "    from pyproj import Geod\n",
    "    \n",
    "    if (radius != 6371000.):\n",
    "        g = Geod(a=radius,b=radius)\n",
    "    else:\n",
    "        g = Geod(ellps=shape)\n",
    "    \n",
    "    dx = np.empty(latitude.shape)\n",
    "    dy = np.zeros(longitude.shape)\n",
    "    \n",
    "    for i in range(latitude.shape[1]):\n",
    "        for j in range(latitude.shape[0]-1):\n",
    "            _, _, dx[j,i] = g.inv(longitude[j,i],latitude[j,i],longitude[j+1,i],latitude[j+1,i])\n",
    "    dx[j+1,:] = dx[j,:]\n",
    "    \n",
    "    for i in range(latitude.shape[1]-1):\n",
    "        for j in range(latitude.shape[0]):\n",
    "            _, _, dy[j,i] = g.inv(longitude[j,i],latitude[j,i],longitude[j,i+1],latitude[j,i+1])\n",
    "    dy[:,i+1] = dy[:,i]\n",
    "    \n",
    "    return dx, dy"
   ]
  },
  {
   "cell_type": "code",
   "execution_count": 3,
   "id": "e21fa47f-135d-49e5-afb8-077cfebcce6b",
   "metadata": {},
   "outputs": [],
   "source": [
    "def run_lifecycle_HW(flag,variable):\n",
    "        \"\"\"\n",
    "        Life cycle analysis: Tracking of intensity, spatial extent and center of mass of each flagged contour.\n",
    "        ## For Heat waves, return floating values of lat/lon related to the center of mass.\n",
    "        Parameters\n",
    "        ----------\n",
    "            flag : string\n",
    "                input variable with flags, output of run_contrack()\n",
    "            variable : string\n",
    "                input variable used to calculate intensity and center of mass\n",
    "\n",
    "        Returns\n",
    "        -------\n",
    "            pandas dataframe: DataFrame\n",
    "                tracking of characteristics for each flagged contour\n",
    "                ['Flag','Date [YYYMMDD_HH]','Longitude [°E]','Latitude [°N]','Intensity [unit from variable]','Size [km2]']\n",
    "        \"\"\"\n",
    "        if (flag.lat[0] > flag.lat[1]):\n",
    "            raise Exception(\"Latitude should be ascending order\")\n",
    "            \n",
    "        xlon, ylat = np.meshgrid(flag.lon, flag.lat) \n",
    "        test_lon, test_lat = new_calc_dx_dy(xlon, ylat,shape='WGS84')\n",
    "        area = test_lon*test_lat\n",
    "        print(area.shape)\n",
    "\n",
    "        # define grid weight (Modified from original CONTRACK)\n",
    "#         weight_lat  = np.cos(flag.lat.data*np.pi/180)\n",
    "        weight_grid = np.ones((flag.shape[1], flag.shape[2]))*np.array(area).astype(np.float32)/1e6\n",
    "\n",
    "        # define output\n",
    "        #initialize wanted variables!!!!!!\n",
    "        block_id = []\n",
    "        time = []\n",
    "        intensity = []\n",
    "        size = []\n",
    "        com_lon = []\n",
    "        com_lat = []\n",
    "   \n",
    "        # loop through time\n",
    "        for i_time in tqdm(range(flag.shape[0]),desc = 'tqdm() Progress Bar'): \n",
    "\n",
    "            currentstep = flag.time[i_time].dt.strftime('%Y%m%d').values\n",
    "            \n",
    "            # loop over individual contours\n",
    "            labels = np.unique(flag.isel(**{'time': i_time}).data)\n",
    "            labels = labels[labels != 0]\n",
    "            if len(labels) == 0:\n",
    "                #no flag at this timestep\n",
    "                continue\n",
    "\n",
    "            for label in labels:\n",
    "                \n",
    "                # calculate area and intensity\n",
    "                areacon = np.sum(weight_grid[flag.isel(**{'time': i_time}).data == label])\n",
    "                intensitycon = np.sum(weight_grid[flag.isel(**{'time': i_time}).data == label] * variable.isel(**{'time': i_time}).data[flag.isel(**{'time': i_time}).data == label])\n",
    "                intensitycon = intensitycon/areacon\n",
    "\n",
    "                #print(intensitycon)\n",
    "                \n",
    "                # calculate center of mass\n",
    "                # periodic boundary: roll field if flag is split at boundary\n",
    "                if label in flag.isel(**{'time': i_time, 'lon':0}).data and label in flag.isel(**{'time': i_time, 'lon':-1}).data:\n",
    "                    # find western edge of flag\n",
    "                    yloc, xloc = np.where(flag.isel(**{'time': i_time}).data == label)\n",
    "                    lon_roll = np.unique(xloc)[np.argmax(np.diff(np.unique(xloc)))+1]\n",
    "                    flag_roll = flag.isel(**{'time': i_time}).roll(**{'lon':(-1) * lon_roll},roll_coords=True)\n",
    "                    variable_roll = variable.isel(**{'time': i_time}).roll(**{'lon':(-1) * lon_roll},roll_coords=True)\n",
    "                    center_of_mass = ndimage.center_of_mass(variable_roll.data*weight_grid, flag_roll.data, [label])\n",
    "                    \n",
    "                    comlatcon = flag_roll.lat[int(center_of_mass[0][0])].data\n",
    "                    comloncon = flag_roll.lon[int(center_of_mass[0][1])].data\n",
    "                    \n",
    "                else:\n",
    "                    center_of_mass = ndimage.center_of_mass(variable.isel(**{'time': i_time}).data*weight_grid, flag.isel(**{'time': i_time}).data, [label])\n",
    "#                    print(center_of_mass)\n",
    "\n",
    "                    comlatcon = flag.lat[int(center_of_mass[0][0])].data\n",
    "                    comloncon = flag.lon[int(center_of_mass[0][1])].data\n",
    "\n",
    "                             \n",
    "                # append to output list\n",
    "                block_id.append(label)\n",
    "                time.append(str(currentstep))                \n",
    "                intensity.append(round(intensitycon,2))\n",
    "                size.append(round(areacon,2))\n",
    "                com_lon.append(comloncon)\n",
    "                com_lat.append(comlatcon)             \n",
    "                           \n",
    "        return pd.DataFrame(sorted(list(zip(block_id,time,com_lon,com_lat,intensity,size)), key=lambda x: (x[0], x[1])) , columns=['Flag','Date','Longitude','Latitude','Intensity','Size'])"
   ]
  },
  {
   "cell_type": "code",
   "execution_count": 4,
   "id": "09cda033-1445-4531-bc50-184ebe3dd80f",
   "metadata": {},
   "outputs": [],
   "source": [
    "def worldmap(var, **kwargs):\n",
    "    #projection = ccrs.Robinson(central_longitude=-135.5808361)\n",
    "    projection = ccrs.Robinson(central_longitude=0)\n",
    "    fig, ax = plt.subplots(\n",
    "        figsize=(8, 4), subplot_kw={\"projection\": projection}, constrained_layout=True\n",
    "    )\n",
    "    ax.set_global()\n",
    "\n",
    "    hpshow = egh.healpix_show(var, ax=ax, **kwargs)\n",
    "    cbar = plt.colorbar(hpshow, ax=ax, orientation='vertical', \n",
    "                    pad=0.05, shrink=0.8)\n"
   ]
  },
  {
   "cell_type": "code",
   "execution_count": 5,
   "id": "0ae3acb5-442a-4339-aa6a-0865d36af6a1",
   "metadata": {},
   "outputs": [],
   "source": [
    "col_url = \"/home/tmerlis/hackathon/catbuild/xsh24_cat.json\""
   ]
  },
  {
   "cell_type": "code",
   "execution_count": 6,
   "id": "cfae7240-cd65-48a6-b792-3d7a7851aebe",
   "metadata": {},
   "outputs": [],
   "source": [
    "col = intake.open_esm_datastore(col_url)"
   ]
  },
  {
   "cell_type": "code",
   "execution_count": 7,
   "id": "9b561472-2f2b-40bd-88bc-c641c7b65bc4",
   "metadata": {},
   "outputs": [
    {
     "data": {
      "text/html": [
       "<div>\n",
       "<style scoped>\n",
       "    .dataframe tbody tr th:only-of-type {\n",
       "        vertical-align: middle;\n",
       "    }\n",
       "\n",
       "    .dataframe tbody tr th {\n",
       "        vertical-align: top;\n",
       "    }\n",
       "\n",
       "    .dataframe thead th {\n",
       "        text-align: right;\n",
       "    }\n",
       "</style>\n",
       "<table border=\"1\" class=\"dataframe\">\n",
       "  <thead>\n",
       "    <tr style=\"text-align: right;\">\n",
       "      <th></th>\n",
       "      <th>source_id</th>\n",
       "      <th>experiment_id</th>\n",
       "      <th>frequency</th>\n",
       "      <th>realm</th>\n",
       "      <th>table_id</th>\n",
       "      <th>member_id</th>\n",
       "      <th>grid_label</th>\n",
       "      <th>variable_id</th>\n",
       "      <th>time_range</th>\n",
       "      <th>chunk_freq</th>\n",
       "      <th>platform</th>\n",
       "      <th>path</th>\n",
       "    </tr>\n",
       "  </thead>\n",
       "  <tbody>\n",
       "    <tr>\n",
       "      <th>0</th>\n",
       "      <td>NaN</td>\n",
       "      <td>20191020.00Z.C3072.xs24v2</td>\n",
       "      <td>NaN</td>\n",
       "      <td>NaN</td>\n",
       "      <td>NaN</td>\n",
       "      <td>GLOBALFV3</td>\n",
       "      <td>NaN</td>\n",
       "      <td>tro_pbl_age_C3072_11520x5760</td>\n",
       "      <td>2020022200</td>\n",
       "      <td>NaN</td>\n",
       "      <td>cimes</td>\n",
       "      <td>/scratch/cimes/GLOBALFV3/20191020.00Z.C3072.xs...</td>\n",
       "    </tr>\n",
       "    <tr>\n",
       "      <th>1</th>\n",
       "      <td>NaN</td>\n",
       "      <td>20191020.00Z.C3072.xs24v2</td>\n",
       "      <td>NaN</td>\n",
       "      <td>NaN</td>\n",
       "      <td>NaN</td>\n",
       "      <td>GLOBALFV3</td>\n",
       "      <td>NaN</td>\n",
       "      <td>vs_coarse_C3072_1440x720</td>\n",
       "      <td>2020022200</td>\n",
       "      <td>NaN</td>\n",
       "      <td>cimes</td>\n",
       "      <td>/scratch/cimes/GLOBALFV3/20191020.00Z.C3072.xs...</td>\n",
       "    </tr>\n",
       "    <tr>\n",
       "      <th>2</th>\n",
       "      <td>NaN</td>\n",
       "      <td>20191020.00Z.C3072.xs24v2</td>\n",
       "      <td>NaN</td>\n",
       "      <td>NaN</td>\n",
       "      <td>NaN</td>\n",
       "      <td>GLOBALFV3</td>\n",
       "      <td>NaN</td>\n",
       "      <td>pk_C3072_11520x5760</td>\n",
       "      <td>2020022200</td>\n",
       "      <td>NaN</td>\n",
       "      <td>cimes</td>\n",
       "      <td>/scratch/cimes/GLOBALFV3/20191020.00Z.C3072.xs...</td>\n",
       "    </tr>\n",
       "    <tr>\n",
       "      <th>3</th>\n",
       "      <td>NaN</td>\n",
       "      <td>20191020.00Z.C3072.xs24v2</td>\n",
       "      <td>NaN</td>\n",
       "      <td>NaN</td>\n",
       "      <td>NaN</td>\n",
       "      <td>GLOBALFV3</td>\n",
       "      <td>NaN</td>\n",
       "      <td>int_liq_wat_dt_phys_coarse_C3072_1440x720</td>\n",
       "      <td>2020022200</td>\n",
       "      <td>NaN</td>\n",
       "      <td>cimes</td>\n",
       "      <td>/scratch/cimes/GLOBALFV3/20191020.00Z.C3072.xs...</td>\n",
       "    </tr>\n",
       "    <tr>\n",
       "      <th>4</th>\n",
       "      <td>NaN</td>\n",
       "      <td>20191020.00Z.C3072.xs24v2</td>\n",
       "      <td>NaN</td>\n",
       "      <td>NaN</td>\n",
       "      <td>NaN</td>\n",
       "      <td>GLOBALFV3</td>\n",
       "      <td>NaN</td>\n",
       "      <td>clisccp_05_05_coarse_C3072_1440x720</td>\n",
       "      <td>2020022200</td>\n",
       "      <td>NaN</td>\n",
       "      <td>cimes</td>\n",
       "      <td>/scratch/cimes/GLOBALFV3/20191020.00Z.C3072.xs...</td>\n",
       "    </tr>\n",
       "    <tr>\n",
       "      <th>...</th>\n",
       "      <td>...</td>\n",
       "      <td>...</td>\n",
       "      <td>...</td>\n",
       "      <td>...</td>\n",
       "      <td>...</td>\n",
       "      <td>...</td>\n",
       "      <td>...</td>\n",
       "      <td>...</td>\n",
       "      <td>...</td>\n",
       "      <td>...</td>\n",
       "      <td>...</td>\n",
       "      <td>...</td>\n",
       "    </tr>\n",
       "    <tr>\n",
       "      <th>23905</th>\n",
       "      <td>NaN</td>\n",
       "      <td>20191020.00Z.C3072.xs24v2</td>\n",
       "      <td>NaN</td>\n",
       "      <td>NaN</td>\n",
       "      <td>NaN</td>\n",
       "      <td>GLOBALFV3</td>\n",
       "      <td>NaN</td>\n",
       "      <td>o3mr_coarse_C3072_1440x720</td>\n",
       "      <td>2020092900</td>\n",
       "      <td>NaN</td>\n",
       "      <td>cimes</td>\n",
       "      <td>/scratch/cimes/GLOBALFV3/20191020.00Z.C3072.xs...</td>\n",
       "    </tr>\n",
       "    <tr>\n",
       "      <th>23906</th>\n",
       "      <td>NaN</td>\n",
       "      <td>20191020.00Z.C3072.xs24v2</td>\n",
       "      <td>NaN</td>\n",
       "      <td>NaN</td>\n",
       "      <td>NaN</td>\n",
       "      <td>GLOBALFV3</td>\n",
       "      <td>NaN</td>\n",
       "      <td>g_accr_C3072_11520x5760</td>\n",
       "      <td>2020092900</td>\n",
       "      <td>NaN</td>\n",
       "      <td>cimes</td>\n",
       "      <td>/scratch/cimes/GLOBALFV3/20191020.00Z.C3072.xs...</td>\n",
       "    </tr>\n",
       "    <tr>\n",
       "      <th>23907</th>\n",
       "      <td>NaN</td>\n",
       "      <td>20191020.00Z.C3072.xs24v2</td>\n",
       "      <td>NaN</td>\n",
       "      <td>NaN</td>\n",
       "      <td>NaN</td>\n",
       "      <td>GLOBALFV3</td>\n",
       "      <td>NaN</td>\n",
       "      <td>h_plev_coarse_C3072_1440x720</td>\n",
       "      <td>2020092900</td>\n",
       "      <td>NaN</td>\n",
       "      <td>cimes</td>\n",
       "      <td>/scratch/cimes/GLOBALFV3/20191020.00Z.C3072.xs...</td>\n",
       "    </tr>\n",
       "    <tr>\n",
       "      <th>23908</th>\n",
       "      <td>NaN</td>\n",
       "      <td>20191020.00Z.C3072.xs24v2</td>\n",
       "      <td>NaN</td>\n",
       "      <td>NaN</td>\n",
       "      <td>NaN</td>\n",
       "      <td>GLOBALFV3</td>\n",
       "      <td>NaN</td>\n",
       "      <td>int_u_dt_phys_coarse_C3072_1440x720</td>\n",
       "      <td>2020092900</td>\n",
       "      <td>NaN</td>\n",
       "      <td>cimes</td>\n",
       "      <td>/scratch/cimes/GLOBALFV3/20191020.00Z.C3072.xs...</td>\n",
       "    </tr>\n",
       "    <tr>\n",
       "      <th>23909</th>\n",
       "      <td>NaN</td>\n",
       "      <td>20191020.00Z.C3072.xs24v2</td>\n",
       "      <td>NaN</td>\n",
       "      <td>NaN</td>\n",
       "      <td>NaN</td>\n",
       "      <td>GLOBALFV3</td>\n",
       "      <td>NaN</td>\n",
       "      <td>clisccp_02_02_coarse_C3072_1440x720</td>\n",
       "      <td>2020092900</td>\n",
       "      <td>NaN</td>\n",
       "      <td>cimes</td>\n",
       "      <td>/scratch/cimes/GLOBALFV3/20191020.00Z.C3072.xs...</td>\n",
       "    </tr>\n",
       "  </tbody>\n",
       "</table>\n",
       "<p>23910 rows × 12 columns</p>\n",
       "</div>"
      ],
      "text/plain": [
       "       source_id              experiment_id  frequency  realm  table_id  \\\n",
       "0            NaN  20191020.00Z.C3072.xs24v2        NaN    NaN       NaN   \n",
       "1            NaN  20191020.00Z.C3072.xs24v2        NaN    NaN       NaN   \n",
       "2            NaN  20191020.00Z.C3072.xs24v2        NaN    NaN       NaN   \n",
       "3            NaN  20191020.00Z.C3072.xs24v2        NaN    NaN       NaN   \n",
       "4            NaN  20191020.00Z.C3072.xs24v2        NaN    NaN       NaN   \n",
       "...          ...                        ...        ...    ...       ...   \n",
       "23905        NaN  20191020.00Z.C3072.xs24v2        NaN    NaN       NaN   \n",
       "23906        NaN  20191020.00Z.C3072.xs24v2        NaN    NaN       NaN   \n",
       "23907        NaN  20191020.00Z.C3072.xs24v2        NaN    NaN       NaN   \n",
       "23908        NaN  20191020.00Z.C3072.xs24v2        NaN    NaN       NaN   \n",
       "23909        NaN  20191020.00Z.C3072.xs24v2        NaN    NaN       NaN   \n",
       "\n",
       "       member_id  grid_label                                variable_id  \\\n",
       "0      GLOBALFV3         NaN               tro_pbl_age_C3072_11520x5760   \n",
       "1      GLOBALFV3         NaN                   vs_coarse_C3072_1440x720   \n",
       "2      GLOBALFV3         NaN                        pk_C3072_11520x5760   \n",
       "3      GLOBALFV3         NaN  int_liq_wat_dt_phys_coarse_C3072_1440x720   \n",
       "4      GLOBALFV3         NaN        clisccp_05_05_coarse_C3072_1440x720   \n",
       "...          ...         ...                                        ...   \n",
       "23905  GLOBALFV3         NaN                 o3mr_coarse_C3072_1440x720   \n",
       "23906  GLOBALFV3         NaN                    g_accr_C3072_11520x5760   \n",
       "23907  GLOBALFV3         NaN               h_plev_coarse_C3072_1440x720   \n",
       "23908  GLOBALFV3         NaN        int_u_dt_phys_coarse_C3072_1440x720   \n",
       "23909  GLOBALFV3         NaN        clisccp_02_02_coarse_C3072_1440x720   \n",
       "\n",
       "       time_range  chunk_freq platform  \\\n",
       "0      2020022200         NaN    cimes   \n",
       "1      2020022200         NaN    cimes   \n",
       "2      2020022200         NaN    cimes   \n",
       "3      2020022200         NaN    cimes   \n",
       "4      2020022200         NaN    cimes   \n",
       "...           ...         ...      ...   \n",
       "23905  2020092900         NaN    cimes   \n",
       "23906  2020092900         NaN    cimes   \n",
       "23907  2020092900         NaN    cimes   \n",
       "23908  2020092900         NaN    cimes   \n",
       "23909  2020092900         NaN    cimes   \n",
       "\n",
       "                                                    path  \n",
       "0      /scratch/cimes/GLOBALFV3/20191020.00Z.C3072.xs...  \n",
       "1      /scratch/cimes/GLOBALFV3/20191020.00Z.C3072.xs...  \n",
       "2      /scratch/cimes/GLOBALFV3/20191020.00Z.C3072.xs...  \n",
       "3      /scratch/cimes/GLOBALFV3/20191020.00Z.C3072.xs...  \n",
       "4      /scratch/cimes/GLOBALFV3/20191020.00Z.C3072.xs...  \n",
       "...                                                  ...  \n",
       "23905  /scratch/cimes/GLOBALFV3/20191020.00Z.C3072.xs...  \n",
       "23906  /scratch/cimes/GLOBALFV3/20191020.00Z.C3072.xs...  \n",
       "23907  /scratch/cimes/GLOBALFV3/20191020.00Z.C3072.xs...  \n",
       "23908  /scratch/cimes/GLOBALFV3/20191020.00Z.C3072.xs...  \n",
       "23909  /scratch/cimes/GLOBALFV3/20191020.00Z.C3072.xs...  \n",
       "\n",
       "[23910 rows x 12 columns]"
      ]
     },
     "execution_count": 7,
     "metadata": {},
     "output_type": "execute_result"
    }
   ],
   "source": [
    "col.df"
   ]
  },
  {
   "cell_type": "code",
   "execution_count": 8,
   "id": "8189157c-40da-4018-8a49-19ebcb6f0dd4",
   "metadata": {},
   "outputs": [],
   "source": [
    "# np.unique(col.df.variable_id)"
   ]
  },
  {
   "cell_type": "code",
   "execution_count": 9,
   "id": "1f233bc4-011d-4c7b-b81a-49a2cd3e2676",
   "metadata": {},
   "outputs": [],
   "source": [
    "cat = col.search(variable_id = 'h_plev_coarse_C3072_1440x720')"
   ]
  },
  {
   "cell_type": "code",
   "execution_count": 10,
   "id": "9b47ac6b-9c1f-4f1b-b7a4-68d8ff6ba14b",
   "metadata": {},
   "outputs": [
    {
     "name": "stdout",
     "output_type": "stream",
     "text": [
      "<esm_catalog_ESM4 catalog with 1 dataset(s) from 89 asset(s)>\n"
     ]
    }
   ],
   "source": [
    "print(cat)"
   ]
  },
  {
   "cell_type": "code",
   "execution_count": 11,
   "id": "3e29fe6c-8d28-448d-ac2b-cf6e393f1f75",
   "metadata": {},
   "outputs": [
    {
     "name": "stdout",
     "output_type": "stream",
     "text": [
      "\n",
      "--> The keys in the returned dictionary of datasets are constructed as follows:\n",
      "\t'experiment_id.member_id'\n"
     ]
    },
    {
     "data": {
      "text/html": [
       "\n",
       "<style>\n",
       "    /* Turns off some styling */\n",
       "    progress {\n",
       "        /* gets rid of default border in Firefox and Opera. */\n",
       "        border: none;\n",
       "        /* Needs to be in here for Safari polyfill so background images work as expected. */\n",
       "        background-size: auto;\n",
       "    }\n",
       "    progress:not([value]), progress:not([value])::-webkit-progress-bar {\n",
       "        background: repeating-linear-gradient(45deg, #7e7e7e, #7e7e7e 10px, #5c5c5c 10px, #5c5c5c 20px);\n",
       "    }\n",
       "    .progress-bar-interrupted, .progress-bar-interrupted::-webkit-progress-bar {\n",
       "        background: #F44336;\n",
       "    }\n",
       "</style>\n"
      ],
      "text/plain": [
       "<IPython.core.display.HTML object>"
      ]
     },
     "metadata": {},
     "output_type": "display_data"
    },
    {
     "data": {
      "text/html": [
       "\n",
       "    <div>\n",
       "      <progress value='1' class='' max='1' style='width:300px; height:20px; vertical-align: middle;'></progress>\n",
       "      100.00% [1/1 00:03&lt;00:00]\n",
       "    </div>\n",
       "    "
      ],
      "text/plain": [
       "<IPython.core.display.HTML object>"
      ]
     },
     "metadata": {},
     "output_type": "display_data"
    }
   ],
   "source": [
    "dset_dict = cat.to_dataset_dict(cdf_kwargs={'chunks': {'time':5}, 'decode_times': True})"
   ]
  },
  {
   "cell_type": "code",
   "execution_count": 12,
   "id": "e10a1992-ea6d-42ec-84ba-303547bbd327",
   "metadata": {},
   "outputs": [
    {
     "data": {
      "text/plain": [
       "{'20191020.00Z.C3072.xs24v2.GLOBALFV3': <xarray.Dataset> Size: 458GB\n",
       " Dimensions:              (time: 3560, plev: 31, grid_yt_coarse: 720, bnds: 2,\n",
       "                           grid_xt_coarse: 1440)\n",
       " Coordinates:\n",
       "   * time                 (time) object 28kB 2019-10-20 03:00:00 ... 2021-01-0...\n",
       "   * plev                 (plev) float32 124B 1.0 2.0 3.0 ... 950.0 975.0 1e+03\n",
       "   * grid_yt_coarse       (grid_yt_coarse) float32 3kB -89.88 -89.62 ... 89.88\n",
       "     grid_yt_coarse_bnds  (grid_yt_coarse, bnds) float32 6kB dask.array<chunksize=(720, 2), meta=np.ndarray>\n",
       "   * grid_xt_coarse       (grid_xt_coarse) float32 6kB 0.125 0.375 ... 359.9\n",
       "     grid_xt_coarse_bnds  (grid_xt_coarse, bnds) float32 12kB dask.array<chunksize=(1440, 2), meta=np.ndarray>\n",
       "     h_plev_coarse        (time, plev, grid_yt_coarse, grid_xt_coarse) float32 458GB dask.array<chunksize=(5, 8, 180, 360), meta=np.ndarray>\n",
       " Dimensions without coordinates: bnds\n",
       " Data variables:\n",
       "     *empty*\n",
       " Attributes:\n",
       "     title:                           202407.20191020.00Z.C3072.xs24v2\n",
       "     grid_type:                       regular\n",
       "     grid_tile:                       N/A\n",
       "     code_release_version:            2024.02\n",
       "     git_hash:                        b86d27037f755a82c586e55073dd575245c144b1\n",
       "     intake_esm_vars:                 ['h_plev_coarse_C3072_1440x720']\n",
       "     intake_esm_attrs:experiment_id:  20191020.00Z.C3072.xs24v2\n",
       "     intake_esm_attrs:member_id:      GLOBALFV3\n",
       "     intake_esm_attrs:variable_id:    h_plev_coarse_C3072_1440x720\n",
       "     intake_esm_attrs:platform:       cimes\n",
       "     intake_esm_attrs:_data_format_:  netcdf\n",
       "     intake_esm_dataset_key:          20191020.00Z.C3072.xs24v2.GLOBALFV3}"
      ]
     },
     "execution_count": 12,
     "metadata": {},
     "output_type": "execute_result"
    }
   ],
   "source": [
    "dset_dict"
   ]
  },
  {
   "cell_type": "code",
   "execution_count": 13,
   "id": "ed7e7b89-9a5f-4d4c-a37c-79a3a6473e5c",
   "metadata": {},
   "outputs": [],
   "source": [
    "ds = dset_dict['20191020.00Z.C3072.xs24v2.GLOBALFV3']"
   ]
  },
  {
   "cell_type": "code",
   "execution_count": 14,
   "id": "14823250-042d-423e-970a-a9ae26183f79",
   "metadata": {},
   "outputs": [],
   "source": [
    "zg500 = ds.h_plev_coarse.sel(plev=500).load()"
   ]
  },
  {
   "cell_type": "code",
   "execution_count": 15,
   "id": "6e09a692-d06c-4cdc-967a-676316283f8c",
   "metadata": {},
   "outputs": [],
   "source": [
    "zg500_test  = zg500[0,:]"
   ]
  },
  {
   "cell_type": "code",
   "execution_count": 16,
   "id": "f1982562-3a86-431b-94be-f1c60b86091b",
   "metadata": {},
   "outputs": [
    {
     "data": {
      "text/plain": [
       "<matplotlib.collections.QuadMesh at 0x15061b712630>"
      ]
     },
     "execution_count": 16,
     "metadata": {},
     "output_type": "execute_result"
    },
    {
     "data": {
      "image/png": "[encoded data removed]",
      "text/plain": [
       "<Figure size 640x480 with 2 Axes>"
      ]
     },
     "metadata": {},
     "output_type": "display_data"
    }
   ],
   "source": [
    "zg500_test.plot()"
   ]
  },
  {
   "cell_type": "code",
   "execution_count": 17,
   "id": "b9edcd1c-2784-435d-b5a4-6baefe7cb664",
   "metadata": {},
   "outputs": [],
   "source": [
    "zg500_djf = zg500.where(zg500['time'].dt.season == 'DJF', drop=True)\n",
    "zg500_djf_mean = zg500_djf.mean(dim='time')"
   ]
  },
  {
   "cell_type": "code",
   "execution_count": 18,
   "id": "e2da4d0a-cb5d-47fc-818f-5ddaa03e5683",
   "metadata": {},
   "outputs": [
    {
     "name": "stdout",
     "output_type": "stream",
     "text": [
      "2020-12-02 03:00:00\n"
     ]
    }
   ],
   "source": [
    "n_times = zg500_djf.sizes['time']\n",
    "rand_idx = np.random.randint(n_times)\n",
    "rand_time = zg500_djf['time'][rand_idx].values\n",
    "print(rand_time)\n",
    "zg500_rand = zg500.sel(time=rand_time)"
   ]
  },
  {
   "cell_type": "code",
   "execution_count": 19,
   "id": "5c9aa58a-892b-4e6b-b087-bfbec38cecf8",
   "metadata": {},
   "outputs": [],
   "source": [
    "# test = zg500[0:300,:].load()"
   ]
  },
  {
   "cell_type": "code",
   "execution_count": 20,
   "id": "bb1c0a3f-0c08-4466-a932-da34bb64eca6",
   "metadata": {},
   "outputs": [],
   "source": [
    "anomaly = (zg500 - zg500_djf_mean)#.compute()"
   ]
  },
  {
   "cell_type": "code",
   "execution_count": 21,
   "id": "a35d3cab-cedc-4ec1-8f79-477e8a22a84c",
   "metadata": {},
   "outputs": [],
   "source": [
    "# anomaly.compute()\n",
    "# print(anomaly)"
   ]
  },
  {
   "cell_type": "code",
   "execution_count": 22,
   "id": "69c0a926-60f3-4553-b547-cc883d2b4221",
   "metadata": {},
   "outputs": [],
   "source": [
    "lon, lat = anomaly.grid_xt_coarse, anomaly.grid_yt_coarse"
   ]
  },
  {
   "cell_type": "code",
   "execution_count": 23,
   "id": "fe34ee3a-958d-4483-8367-06de02e0010b",
   "metadata": {},
   "outputs": [],
   "source": [
    "xlon, ylat = np.meshgrid(lon, lat[::-1])"
   ]
  },
  {
   "cell_type": "code",
   "execution_count": 24,
   "id": "008a9345-a42e-4368-ba0f-d3624dc02ca2",
   "metadata": {},
   "outputs": [
    {
     "data": {
      "text/plain": [
       "array([[ 89.875,  89.875,  89.875, ...,  89.875,  89.875,  89.875],\n",
       "       [ 89.625,  89.625,  89.625, ...,  89.625,  89.625,  89.625],\n",
       "       [ 89.375,  89.375,  89.375, ...,  89.375,  89.375,  89.375],\n",
       "       ...,\n",
       "       [-89.375, -89.375, -89.375, ..., -89.375, -89.375, -89.375],\n",
       "       [-89.625, -89.625, -89.625, ..., -89.625, -89.625, -89.625],\n",
       "       [-89.875, -89.875, -89.875, ..., -89.875, -89.875, -89.875]],\n",
       "      shape=(720, 1440), dtype=float32)"
      ]
     },
     "execution_count": 24,
     "metadata": {},
     "output_type": "execute_result"
    }
   ],
   "source": [
    "ylat"
   ]
  },
  {
   "cell_type": "code",
   "execution_count": 25,
   "id": "5d9cbc76-8196-4ef0-bc0c-9bf5c296647d",
   "metadata": {},
   "outputs": [],
   "source": [
    "test_lon, test_lat = new_calc_dx_dy(xlon, ylat,shape='WGS84')"
   ]
  },
  {
   "cell_type": "code",
   "execution_count": 26,
   "id": "935f11c9-0c9f-44a9-9f48-1969b3c38efc",
   "metadata": {},
   "outputs": [],
   "source": [
    "# zg500_djf.where((zg500.grid_yt_coarse >= 30) & (zg500.grid_yt_coarse <= 80))"
   ]
  },
  {
   "cell_type": "code",
   "execution_count": 27,
   "id": "8e2050bb-e061-426d-959f-224685fd91e6",
   "metadata": {},
   "outputs": [
    {
     "name": "stdout",
     "output_type": "stream",
     "text": [
      "255.4033\n"
     ]
    }
   ],
   "source": [
    "threshold = np.nanstd(zg500_djf.where((zg500.grid_yt_coarse >= 30) & (zg500.grid_yt_coarse <= 80)).values)\n",
    "print(threshold)"
   ]
  },
  {
   "cell_type": "code",
   "execution_count": 28,
   "id": "a4384bf6-0cd9-4809-a94d-621437a78be1",
   "metadata": {},
   "outputs": [],
   "source": [
    "from scipy.signal import convolve2d\n",
    "from scipy.ndimage import label,generate_binary_structure,find_objects\n",
    "test_s = np.array([[[0, 0, 0], [0,0,0], [0,0,0]],\n",
    "                   [[1, 1, 1], [1,1,1], [1,1,1]],\n",
    "                   [[0, 0, 0], [0,0,0], [0,0,0]]])"
   ]
  },
  {
   "cell_type": "code",
   "execution_count": 29,
   "id": "ade4de10-b8b0-4f29-bd53-9c1887bbfd29",
   "metadata": {},
   "outputs": [],
   "source": [
    "area2 = test_lon*test_lat"
   ]
  },
  {
   "cell_type": "code",
   "execution_count": 30,
   "id": "5b115afb-4eb8-4bd9-af9d-2f5211ce25ab",
   "metadata": {},
   "outputs": [],
   "source": [
    "lat30to90N  = np.where((lat >= 30.) & (lat <= 90.))[0]  \n",
    "domain_nlat = len(lat30to90N)"
   ]
  },
  {
   "cell_type": "code",
   "execution_count": 31,
   "id": "33f76a3d-8de9-4bde-9203-07dcebf29ff8",
   "metadata": {},
   "outputs": [
    {
     "name": "stdout",
     "output_type": "stream",
     "text": [
      "(240, 1440)\n"
     ]
    }
   ],
   "source": [
    "domain_area = area2[lat30to90N,:]\n",
    "print(domain_area.shape)\n",
    "#print(domain_area)"
   ]
  },
  {
   "cell_type": "code",
   "execution_count": 32,
   "id": "5987dee2-e377-42af-b094-31d9d1dea2fd",
   "metadata": {},
   "outputs": [
    {
     "name": "stdout",
     "output_type": "stream",
     "text": [
      "(3560, 240, 1440)\n",
      "<xarray.DataArray 'h_plev_coarse' (time: 3560, grid_yt_coarse: 240,\n",
      "                                   grid_xt_coarse: 1440)> Size: 5GB\n",
      "array([[[ 37.260742  ,  37.677734  ,  37.757324  , ...,  34.413086  ,\n",
      "          35.46924   ,  36.501465  ],\n",
      "        [ 37.92578   ,  38.561523  ,  39.090332  , ...,  34.995605  ,\n",
      "          36.05371   ,  37.07715   ],\n",
      "        [ 38.652344  ,  39.382324  ,  40.035156  , ...,  35.347656  ,\n",
      "          36.623535  ,  37.7417    ],\n",
      "        ...,\n",
      "        [ 19.748535  ,  19.747559  ,  19.746094  , ...,  19.748047  ,\n",
      "          19.749512  ,  19.75      ],\n",
      "        [ 19.84961   ,  19.850586  ,  19.850586  , ...,  19.849121  ,\n",
      "          19.849121  ,  19.850098  ],\n",
      "        [ 19.830566  ,  19.830566  ,  19.830566  , ...,  19.830566  ,\n",
      "          19.830566  ,  19.830566  ]],\n",
      "\n",
      "       [[ 39.035645  ,  39.643555  ,  40.52246   , ...,  37.605957  ,\n",
      "          38.290527  ,  38.65039   ],\n",
      "        [ 39.81299   ,  40.1958    ,  40.90869   , ...,  37.981934  ,\n",
      "          38.984375  ,  39.478516  ],\n",
      "        [ 40.632324  ,  41.019043  ,  41.71631   , ...,  38.177246  ,\n",
      "          39.335938  ,  40.166016  ],\n",
      "...\n",
      "          -9.166016  ,  -9.16748   ],\n",
      "        [ -9.969238  ,  -9.970215  ,  -9.972168  , ...,  -9.963379  ,\n",
      "          -9.965332  ,  -9.966797  ],\n",
      "        [-10.987793  , -10.987793  , -10.987793  , ..., -10.987793  ,\n",
      "         -10.987793  , -10.987793  ]],\n",
      "\n",
      "       [[-11.745117  , -14.233398  , -16.786133  , ...,  -5.7124023 ,\n",
      "          -7.649414  ,  -9.661621  ],\n",
      "        [-11.96875   , -14.3515625 , -16.805176  , ...,  -5.4853516 ,\n",
      "          -7.708496  ,  -9.883301  ],\n",
      "        [-12.208008  , -14.20459   , -16.451172  , ...,  -5.8603516 ,\n",
      "          -8.003418  , -10.250977  ],\n",
      "        ...,\n",
      "        [-10.607422  , -10.610352  , -10.614746  , ..., -10.6015625 ,\n",
      "         -10.602051  , -10.604004  ],\n",
      "        [-11.567383  , -11.567871  , -11.569336  , ..., -11.5625    ,\n",
      "         -11.563965  , -11.56543   ],\n",
      "        [-12.35791   , -12.35791   , -12.35791   , ..., -12.35791   ,\n",
      "         -12.35791   , -12.35791   ]]],\n",
      "      shape=(3560, 240, 1440), dtype=float32)\n",
      "Coordinates:\n",
      "  * time            (time) object 28kB 2019-10-20 03:00:00 ... 2021-01-07 00:...\n",
      "    plev            float32 4B 500.0\n",
      "  * grid_yt_coarse  (grid_yt_coarse) float32 960B 30.12 30.38 ... 89.62 89.88\n",
      "  * grid_xt_coarse  (grid_xt_coarse) float32 6kB 0.125 0.375 ... 359.6 359.9\n",
      "    h_plev_coarse   (time, grid_yt_coarse, grid_xt_coarse) float32 5GB 5.803e...\n"
     ]
    }
   ],
   "source": [
    "#z500\n",
    "z500_np = anomaly[:,lat30to90N,:]\n",
    "print(z500_np.shape)\n",
    "print(z500_np)"
   ]
  },
  {
   "cell_type": "code",
   "execution_count": null,
   "id": "d3ccbb9f-ac1d-42b3-acea-637635a15d3b",
   "metadata": {},
   "outputs": [],
   "source": [
    "z500_anom_filter = anomaly.where(z500_np>threshold).rename({\"grid_yt_coarse\":\"lat\",\"grid_xt_coarse\":\"lon\"})"
   ]
  },
  {
   "cell_type": "code",
   "execution_count": null,
   "id": "56a342ce-1f41-4813-a1ae-4b43a14bc669",
   "metadata": {},
   "outputs": [],
   "source": [
    "z500_anom_bool = ~np.isnan(z500_anom_filter)"
   ]
  },
  {
   "cell_type": "code",
   "execution_count": null,
   "id": "e3da28e0-0a60-4834-bee3-53952fc0b10e",
   "metadata": {},
   "outputs": [],
   "source": [
    "z500_anom_bool[0,:].plot()"
   ]
  },
  {
   "cell_type": "code",
   "execution_count": null,
   "id": "9809e032-99c8-400a-8518-a215de6698a5",
   "metadata": {},
   "outputs": [],
   "source": [
    "flag = np.empty((z500_np.shape[0],z500_np.shape[1],z500_np.shape[2]),dtype=int)\n",
    "num_features = np.empty((z500_np.shape[0]),dtype=int)\n",
    "# for tt in range(ntim):\n",
    "flag, num_features = label(z500_anom_bool,structure=test_s) #Nr. Areas\n",
    "#    print(z500_areas.shape)\n",
    "#     print(num_features)\n",
    "print(flag.shape)\n",
    "#print(flag)\n",
    "\n",
    "for tt in range(z500_np.shape[0]):\n",
    "        for yy in range(z500_np.shape[1]):\n",
    "            if flag[tt, yy, 0] > 0 and flag[tt, yy, -1] > 0 and (flag[tt, yy, 0] > flag[tt, yy, -1]):\n",
    "                # downstream\n",
    "#                print('check downstream values')\n",
    "                flag[tt][flag[tt] == flag[tt, yy, 0]] = flag[tt, yy, -1]\n",
    "            if flag[tt, yy, 0] > 0 and flag[tt, yy, -1] > 0 and (flag[tt, yy, 0] < flag[tt, yy, -1]):\n",
    "                # upstream\n",
    "#                print('check upstream values')\n",
    "                flag[tt][flag[tt] == flag[tt, yy, -1]] = flag[tt, yy, 0]"
   ]
  },
  {
   "cell_type": "code",
   "execution_count": null,
   "id": "cdafa5fb-2edf-4ad9-8912-385345930c8a",
   "metadata": {},
   "outputs": [],
   "source": [
    "ntim = anomaly.shape[0]"
   ]
  },
  {
   "cell_type": "code",
   "execution_count": null,
   "id": "12b092e5-d521-428d-92d5-37ed72ccb026",
   "metadata": {},
   "outputs": [],
   "source": [
    "domain_area.shape"
   ]
  },
  {
   "cell_type": "code",
   "execution_count": null,
   "id": "491156d6-f332-4f65-aebf-bf2a94ffdf34",
   "metadata": {},
   "outputs": [],
   "source": [
    "print(ntim)\n",
    "flag.shape"
   ]
  },
  {
   "cell_type": "code",
   "execution_count": null,
   "id": "b933f4f1-1362-4b1d-9f82-04f3ad357b06",
   "metadata": {},
   "outputs": [],
   "source": [
    "import tqdm\n",
    "from tqdm import tqdm\n",
    "overlap = 0.5\n",
    "persistence = 40\n",
    "\n",
    "for tt in tqdm(range(0,ntim-1), desc = 'tqdm() Progress Bar'):\n",
    "    num   = 0\n",
    "    slices = find_objects(flag[tt])\n",
    "    for slice_ in slices:\n",
    "        num = num+1\n",
    "        if slice_ is None:\n",
    "            continue\n",
    "        areacon = np.sum(domain_area[slice_][flag[tt][slice_] == num])/1e6 # m^2 to km^2\n",
    "        \n",
    "        if areacon < 2e6: # Did not pass the size threshold\n",
    "            flag[tt][slice_][(flag[tt][slice_] == num)] = 0.\n",
    "        else:\n",
    "            areaover_forward = np.sum(domain_area[slice_][(flag[tt][slice_] == num) & (flag[tt+1][slice_] >= 1)])/1e6\n",
    "            areaover_backward = np.sum(domain_area[slice_][(flag[tt][slice_] == num) & (flag[tt-1][slice_] >= 1)])/1e6\n",
    "\n",
    "            fraction_backward = (1 / areacon) * areaover_backward\n",
    "            fraction_forward = (1 / areacon) * areaover_forward \n",
    "            \n",
    "            if fraction_backward != 0 and fraction_forward != 0:\n",
    "                if (fraction_backward < overlap) or (fraction_forward < overlap):\n",
    "                    flag[tt][slice_][(flag[tt][slice_] == num)] = 0.\n",
    "            # decay\n",
    "            if fraction_backward != 0 and fraction_forward == 0:\n",
    "                if (fraction_backward < overlap):\n",
    "                    flag[tt][slice_][(flag[tt][slice_] == num)] = 0.\n",
    "            # onset\n",
    "            if fraction_backward == 0 and fraction_forward != 0:        \n",
    "                if (fraction_forward < overlap):\n",
    "                    flag[tt][slice_][(flag[tt][slice_] == num)] = 0.\n",
    "\n",
    "print(flag.shape)\n",
    "\n",
    "flag_overlap_processed = flag.copy()"
   ]
  },
  {
   "cell_type": "code",
   "execution_count": null,
   "id": "b4c14c1c-7f69-4d16-8f7a-a7d961a2a269",
   "metadata": {},
   "outputs": [],
   "source": [
    "flag_xr = xr.DataArray(flag_overlap_processed,coords=[zg500.time, lat[lat30to90N], lon], dims=['time','lat','lon'])"
   ]
  },
  {
   "cell_type": "code",
   "execution_count": null,
   "id": "6c213d3c-8ad6-4688-99ed-c9479a626eaf",
   "metadata": {},
   "outputs": [],
   "source": [
    "np.unique(flag_xr[962,:,:].values)"
   ]
  },
  {
   "cell_type": "code",
   "execution_count": null,
   "id": "22d33fe4-766a-43dd-b722-1eb6eef290a1",
   "metadata": {},
   "outputs": [],
   "source": [
    "flag_xr[962,:,:].plot()"
   ]
  },
  {
   "cell_type": "code",
   "execution_count": null,
   "id": "28b0ed27-a2e5-485d-9dee-cd37df7a7f0a",
   "metadata": {},
   "outputs": [],
   "source": [
    "np.set_printoptions(threshold=10)"
   ]
  },
  {
   "cell_type": "code",
   "execution_count": null,
   "id": "4c238f55-cdaa-46b3-a1d8-ff113df80368",
   "metadata": {},
   "outputs": [],
   "source": [
    "z500_anom_filter[962,:].plot()"
   ]
  },
  {
   "cell_type": "code",
   "execution_count": null,
   "id": "ff898b1e-e517-42c9-b44f-da0ddae87eb9",
   "metadata": {},
   "outputs": [],
   "source": [
    "# step 4: persistency\n",
    "# find features along time axis\n",
    "print(\"Apply persistence...\")\n",
    "flag = xr.where(flag_overlap_processed >= 1, 1, 0)\n",
    "flag, num_features = label(flag, structure=np.array([[[0, 0, 0], [0,1,0], [0,0,0]],[[1, 1, 1], [1,1,1], [1,1,1]],[[0, 0, 0], [0,1,0], [0,0,0]]]))\n",
    "\n",
    "slices = find_objects(flag)\n",
    "\n",
    "for tt in range(ntim):\n",
    "    for yy in range(domain_nlat):\n",
    "        if flag[tt, yy, 0] > 0 and flag[tt, yy, -1] > 0 and (flag[tt, yy, 0] > flag[tt, yy, -1]):\n",
    "            # downstream\n",
    "            slice_ = slices[flag[tt, yy, 0]-1]\n",
    "            flag[slice_][(flag[slice_] == flag[tt, yy, 0])] = flag[tt, yy, -1]\n",
    "        if flag[tt, yy, 0] > 0 and flag[tt, yy, -1] > 0 and (flag[tt, yy, 0] < flag[tt, yy, -1]):\n",
    "            # upstream\n",
    "            slice_ = slices[flag[tt, yy, -1]-1]\n",
    "            flag[slice_][(flag[slice_] == flag[tt, yy, -1])] = flag[tt, yy, 0]\n",
    "\n",
    "# print(flag)\n",
    "    \n",
    "# check for persistance, remove features with lifetime < persistance\n",
    "num=0\n",
    "for slice_ in find_objects(flag):\n",
    "    num = num+1\n",
    "    if slice_ is None:\n",
    "        #no feature with this flag\n",
    "        continue\n",
    "    else:\n",
    "        print(slice_[0].stop - slice_[0].start)\n",
    "        print(slice_[0], num)\n",
    "    if (slice_[0].stop - slice_[0].start) < persistence:\n",
    "        print(\"Did not pass persistence test: \", slice_[0].stop - slice_[0].start)\n",
    "        flag[slice_][(flag[slice_] == num)] = 0\n",
    "    else:\n",
    "        print(\"Passed persistence test: \", slice_[0].stop - slice_[0].start)\n",
    "\n",
    "print(flag.shape)\n",
    "np.set_printoptions(threshold=sys.maxsize)\n",
    "print(len(np.unique(flag)))"
   ]
  },
  {
   "cell_type": "code",
   "execution_count": null,
   "id": "bd173515-16cf-4793-a168-6419a72ed781",
   "metadata": {},
   "outputs": [],
   "source": [
    "#flag"
   ]
  },
  {
   "cell_type": "code",
   "execution_count": null,
   "id": "0831650a-8658-4a46-9734-ecd06a59ac09",
   "metadata": {},
   "outputs": [],
   "source": [
    "flag_final = xr.where(flag >= 1, 1, 0)"
   ]
  },
  {
   "cell_type": "code",
   "execution_count": null,
   "id": "0b6cc0f0-20fc-4bd7-9765-939130a2533a",
   "metadata": {},
   "outputs": [],
   "source": [
    "flag_xr = xr.DataArray(flag,coords=[zg500.time, lat[lat30to90N], lon], dims=['time','grid_yt_coarse','grid_xt_coarse'])"
   ]
  },
  {
   "cell_type": "code",
   "execution_count": null,
   "id": "3522fb08-1aaa-4ed4-9ada-b673dc0d8f84",
   "metadata": {},
   "outputs": [],
   "source": [
    "flag_xr_for_plot = xr.DataArray(flag_final,coords=[zg500.time, lat[lat30to90N], lon], dims=['time','grid_yt_coarse','grid_xt_coarse'])"
   ]
  },
  {
   "cell_type": "code",
   "execution_count": null,
   "id": "fb70fe85-0e4e-428f-9191-9bfa90412e66",
   "metadata": {},
   "outputs": [],
   "source": [
    "flag_xr_for_plot[100,:].plot()"
   ]
  },
  {
   "cell_type": "code",
   "execution_count": null,
   "id": "1d66869f-790c-47ea-9033-1632e1564377",
   "metadata": {},
   "outputs": [],
   "source": [
    "flag_xr_DJF = flag_xr_for_plot.where(zg500['time'].dt.season == 'DJF', drop=True)"
   ]
  },
  {
   "cell_type": "code",
   "execution_count": null,
   "id": "bb77ec9a-9ded-483d-ae94-b5c507b9b655",
   "metadata": {},
   "outputs": [],
   "source": [
    "block_DJF_percent = flag_xr_DJF.sum(dim='time')/1025*100"
   ]
  },
  {
   "cell_type": "code",
   "execution_count": null,
   "id": "2a4d393b-d267-44dd-95e3-b64316c2c5ae",
   "metadata": {},
   "outputs": [],
   "source": [
    "block_DJF_percent.plot(robust=True)"
   ]
  },
  {
   "cell_type": "code",
   "execution_count": null,
   "id": "14feee6e-0ed7-4298-ad67-da9ef9ea6ec4",
   "metadata": {},
   "outputs": [],
   "source": [
    "flag_xr.attrs['long_name'] = 'Blocking frequency(30-90N) in Xshield24 through anomaly method'\n",
    "#print(blocking_freq_binary_xr)\n",
    "flag_dat = flag_xr.to_dataset(name='block_freq')\n",
    "print(flag_dat)"
   ]
  },
  {
   "cell_type": "code",
   "execution_count": null,
   "id": "d60a25ba-d34a-4842-93fb-a5a8ef9202bd",
   "metadata": {},
   "outputs": [],
   "source": [
    "z500_np_dat = z500_np.to_dataset(name='z500_anom')\n",
    "\n",
    "custom_dataset = xr.merge([flag_dat, z500_np_dat])\n",
    "print(custom_dataset)"
   ]
  },
  {
   "cell_type": "code",
   "execution_count": null,
   "id": "c9f8c6f0-0505-4b81-b267-fc716c77edc1",
   "metadata": {},
   "outputs": [],
   "source": [
    "save_nc =False\n",
    "\n",
    "    if (save_nc):\n",
    "    \n",
    "        import os\n",
    "        new_filename_2 = '/scratch/cimes/mp3238/HACKATHON/xsh24_blocking_freq_ANO_lat30to90N.nc'\n",
    "        \n",
    "        if os.path.exists(new_filename_2):\n",
    "            os.remove(new_filename_2)\n",
    "            print(\"original data removed\")\n",
    "        \n",
    "        print ('saving to ', new_filename_2)\n",
    "        custom_dataset.to_netcdf(path=new_filename_2,encoding={'block_freq': {'dtype': 'int32'},\n",
    "                                                                        'z500_anom': {'dtype': 'float32'}})"
   ]
  },
  {
   "cell_type": "code",
   "execution_count": null,
   "id": "4fe069a5-45e2-4693-9af2-8ebb5810ac63",
   "metadata": {},
   "outputs": [],
   "source": [
    "test = xr.open_dataset(new_filename_2)"
   ]
  },
  {
   "cell_type": "code",
   "execution_count": null,
   "id": "6cf7786d-adb1-49a5-8c7c-72fc473afec5",
   "metadata": {},
   "outputs": [],
   "source": [
    "print(test)"
   ]
  },
  {
   "cell_type": "code",
   "execution_count": null,
   "id": "779a669c-9493-4893-879b-c40593fece1f",
   "metadata": {},
   "outputs": [],
   "source": [
    "test2 = test['z500_anom']"
   ]
  },
  {
   "cell_type": "code",
   "execution_count": null,
   "id": "bdca5e19-40f2-41a2-9947-ecd4c6fff436",
   "metadata": {},
   "outputs": [],
   "source": [
    "test3 = test['block_freq']"
   ]
  },
  {
   "cell_type": "code",
   "execution_count": null,
   "id": "5ad2c568-bb18-4957-8e9c-3ed2ad5087c6",
   "metadata": {},
   "outputs": [],
   "source": [
    "test3[35,:].plot()"
   ]
  },
  {
   "cell_type": "code",
   "execution_count": null,
   "id": "9a2b3cff-0cec-4dc3-9ae8-424b17c8cf7e",
   "metadata": {},
   "outputs": [],
   "source": [
    "test2[35,:].plot()"
   ]
  },
  {
   "cell_type": "code",
   "execution_count": null,
   "id": "f95f1d53-06d1-4a71-aecc-a5e0c3406e64",
   "metadata": {},
   "outputs": [],
   "source": [
    "from blocking_utils import new_calc_dx_dy, run_lifecycle_HW"
   ]
  },
  {
   "cell_type": "code",
   "execution_count": null,
   "id": "5a992210-3a8c-49dd-bf7f-19a68ed2c998",
   "metadata": {},
   "outputs": [],
   "source": [
    "lifecycle_test = flag_xr[:,:,:].copy().rename({\"grid_yt_coarse\":\"lat\",\"grid_xt_coarse\":\"lon\"})\n",
    "print(lifecycle_test.shape)"
   ]
  },
  {
   "cell_type": "code",
   "execution_count": null,
   "id": "c83d80bb-7849-45b6-aa12-7177121ec4a9",
   "metadata": {},
   "outputs": [],
   "source": [
    "len(np.unique(flag_xr))"
   ]
  },
  {
   "cell_type": "code",
   "execution_count": null,
   "id": "00fbd071-05dc-41e2-b521-407fbbddea3f",
   "metadata": {},
   "outputs": [],
   "source": [
    "np.unique(flag_xr)"
   ]
  },
  {
   "cell_type": "code",
   "execution_count": null,
   "id": "e79ceac4-a994-48aa-a9e7-d544896c21d4",
   "metadata": {},
   "outputs": [],
   "source": [
    "# lifecycle_test = lifecycle_test.rename({\"grid_yt_coarse\":\"lat\",\"grid_xt_coarse\":\"lon\"})"
   ]
  },
  {
   "cell_type": "code",
   "execution_count": null,
   "id": "32c1b14b-ce33-4327-8873-4b074ffb4b31",
   "metadata": {},
   "outputs": [],
   "source": [
    "lifecycle_flag_test = run_lifecycle_HW(lifecycle_test,z500_anom_filter)"
   ]
  },
  {
   "cell_type": "code",
   "execution_count": null,
   "id": "cf74e1e7-4a1d-4623-9add-2f3dda139785",
   "metadata": {},
   "outputs": [],
   "source": [
    "lifecycle_flag_test"
   ]
  },
  {
   "cell_type": "code",
   "execution_count": null,
   "id": "cc89368c-a597-415e-971b-c4eacbd7316a",
   "metadata": {},
   "outputs": [],
   "source": [
    "z500_anom_filter.sel(time='2020-12-30 03:00:00').plot()"
   ]
  },
  {
   "cell_type": "code",
   "execution_count": null,
   "id": "a31e3319-e3ab-4fb1-a64e-9029d752a835",
   "metadata": {},
   "outputs": [],
   "source": [
    "save_csv = False\n",
    "if (save_csv):\n",
    "    savedir = '/scratch/cimes/mp3238/HACKATHON/'    \n",
    "    lifecycle_flag_test.to_csv(savedir + 'properties_xsh24_blocking_freq_ANO_lat30to90N.csv',index=False)"
   ]
  },
  {
   "cell_type": "code",
   "execution_count": null,
   "id": "7d502fa5-c1b9-4802-81a2-8d1904418bf0",
   "metadata": {},
   "outputs": [],
   "source": [
    "testt = z500_anom_filter.sel(time='2020-12-30 03:00:00').squeeze()"
   ]
  },
  {
   "cell_type": "code",
   "execution_count": null,
   "id": "e7de386a-1b0a-4db2-9cc8-c2433e4f43ff",
   "metadata": {},
   "outputs": [],
   "source": [
    "np.set_printoptions(threshold=10)\n",
    "print(testt)"
   ]
  },
  {
   "cell_type": "code",
   "execution_count": null,
   "id": "bca99ad4-24e2-47e8-8f15-cdb2a12293e9",
   "metadata": {},
   "outputs": [],
   "source": []
  }
 ],
 "metadata": {
  "kernelspec": {
   "display_name": "easy25 [~/.conda/envs/easy25/]",
   "language": "python",
   "name": "conda_easy25"
  },
  "language_info": {
   "codemirror_mode": {
    "name": "ipython",
    "version": 3
   },
   "file_extension": ".py",
   "mimetype": "text/x-python",
   "name": "python",
   "nbconvert_exporter": "python",
   "pygments_lexer": "ipython3",
   "version": "3.12.10"
  }
 },
 "nbformat": 4,
 "nbformat_minor": 5
}
